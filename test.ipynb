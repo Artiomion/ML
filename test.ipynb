{
 "cells": [
  {
   "cell_type": "code",
   "id": "initial_id",
   "metadata": {
    "collapsed": true,
    "ExecuteTime": {
     "end_time": "2025-08-27T12:22:51.613410Z",
     "start_time": "2025-08-27T12:22:51.598666Z"
    }
   },
   "source": [
    "n = 7\n",
    "p = []\n",
    "for i in range(n):\n",
    "    r = [1] * (i+1)\n",
    "    for j in range(i+1):\n",
    "        if j != 0 and j != i:\n",
    "            r[j] = p[i-1][j-1] + p[i-1][j]\n",
    "    p.append(r)\n",
    "\n",
    "for i in range(n):\n",
    "    print(p[i])"
   ],
   "outputs": [
    {
     "name": "stdout",
     "output_type": "stream",
     "text": [
      "[1]\n",
      "[1, 1]\n",
      "[1, 2, 1]\n",
      "[1, 3, 3, 1]\n",
      "[1, 4, 6, 4, 1]\n",
      "[1, 5, 10, 10, 5, 1]\n",
      "[1, 6, 15, 20, 15, 6, 1]\n"
     ]
    }
   ],
   "execution_count": 3
  },
  {
   "metadata": {
    "ExecuteTime": {
     "end_time": "2025-08-27T12:22:51.622052Z",
     "start_time": "2025-08-27T12:22:51.615118Z"
    }
   },
   "cell_type": "code",
   "source": [
    "t = \"лилила\"\n",
    "p = [0] * len(t)\n",
    "i = 1\n",
    "j = 0\n",
    "\n",
    "while i < len(t):\n",
    "    if t[i] == t[j]:\n",
    "        p[i] = j + 1\n",
    "        j += 1\n",
    "        i += 1\n",
    "    else:\n",
    "        if j == 0:\n",
    "            p[i] = 0\n",
    "            i += 1\n",
    "        else:\n",
    "            j = p[j - 1]\n",
    "\n",
    "a = \"лилилось лилилась\"\n",
    "m = len(t)\n",
    "n = len(a)\n",
    "\n",
    "i = 0\n",
    "j = 0\n",
    "while i < n:\n",
    "    if a[i] == t[j]:\n",
    "        i += 1\n",
    "        j += 1\n",
    "        if j == m:\n",
    "            print(\"Образ найден\")\n",
    "            break\n",
    "    else:\n",
    "        if j > 0:\n",
    "            j = p[j - 1]\n",
    "        else:\n",
    "            i += 1\n",
    "\n",
    "if i == n:\n",
    "    print(\"Образ не найден\")"
   ],
   "id": "568b516729f67d85",
   "outputs": [
    {
     "name": "stdout",
     "output_type": "stream",
     "text": [
      "Образ найден\n"
     ]
    }
   ],
   "execution_count": 4
  },
  {
   "metadata": {},
   "cell_type": "markdown",
   "source": "",
   "id": "ab073b31416bc94d"
  },
  {
   "metadata": {
    "ExecuteTime": {
     "end_time": "2025-08-27T12:22:51.628170Z",
     "start_time": "2025-08-27T12:22:51.623231Z"
    }
   },
   "cell_type": "code",
   "source": [
    "t = \"данные\"\n",
    "\n",
    "# Этап 1: формирование таблицы смещений\n",
    "\n",
    "S = set()  # уникальные символы в образе\n",
    "M = len(t) # число символов в образе\n",
    "d = {}     # словарь смещений\n",
    "\n",
    "for i in range(M-2, -1, -1): # итерации с предпоследнего символа\n",
    "    if t[i] not in S:        # если символ еще не добавлен в таблицу\n",
    "        d[t[i]] = M-i-1\n",
    "        S.add(t[i])\n",
    "\n",
    "if t[M-1] not in S:     # отдельно формируем последний символ\n",
    "    d[t[M-1]] = M\n",
    "\n",
    "d['*'] = M              # смещения для прочих символов\n",
    "\n",
    "print(d)\n",
    "\n",
    "# Этап 2: поиск образа в строке\n",
    "\n",
    "a = \"метеоданные\"\n",
    "N = len(a)\n",
    "\n",
    "if N >= M:\n",
    "    i = M-1       # счетчик проверяемого символа в строке\n",
    "\n",
    "    while(i < N):\n",
    "        k = 0\n",
    "        j = 0\n",
    "        flBreak = False\n",
    "        for j in range(M-1, -1, -1):\n",
    "            if a[i-k] != t[j]:\n",
    "                if j == M-1:\n",
    "                    off = d[a[i]] if d.get(a[i], False) else d['*']  # смещение, если не равен последний символ образа\n",
    "                else:\n",
    "                    off = d[t[j]]   # смещение, если не равен не последний символ образа\n",
    "\n",
    "                i += off    # смещение счетчика строки\n",
    "                flBreak = True  # если несовпадение символа, то flBreak = True\n",
    "                break\n",
    "\n",
    "            k += 1          # смещение для сравниваемого символа в строке\n",
    "\n",
    "        if not flBreak:          # если дошли до начала образа, значит, все его символы совпали\n",
    "            print(f\"образ найден по индексу {i-k+1}\")\n",
    "            break\n",
    "    else:\n",
    "        print(\"образ не найден\")\n",
    "else:\n",
    "    print(\"образ не найден\")"
   ],
   "id": "d2a51737c76d6b7c",
   "outputs": [
    {
     "name": "stdout",
     "output_type": "stream",
     "text": [
      "{'ы': 1, 'н': 2, 'а': 4, 'д': 5, 'е': 6, '*': 6}\n",
      "образ найден по индексу 5\n"
     ]
    }
   ],
   "execution_count": 5
  }
 ],
 "metadata": {
  "kernelspec": {
   "display_name": "Python 3",
   "language": "python",
   "name": "python3"
  },
  "language_info": {
   "codemirror_mode": {
    "name": "ipython",
    "version": 2
   },
   "file_extension": ".py",
   "mimetype": "text/x-python",
   "name": "python",
   "nbconvert_exporter": "python",
   "pygments_lexer": "ipython2",
   "version": "2.7.6"
  }
 },
 "nbformat": 4,
 "nbformat_minor": 5
}
