{
 "cells": [
  {
   "cell_type": "code",
   "id": "initial_id",
   "metadata": {
    "collapsed": true,
    "ExecuteTime": {
     "end_time": "2025-08-27T13:03:02.458227Z",
     "start_time": "2025-08-27T13:03:02.438922Z"
    }
   },
   "source": [
    "n = 7\n",
    "p = []\n",
    "for i in range(n):\n",
    "    r = [1] * (i+1)\n",
    "    for j in range(i+1):\n",
    "        if j != 0 and j != i:\n",
    "            r[j] = p[i-1][j-1] + p[i-1][j]\n",
    "    p.append(r)\n",
    "\n",
    "for i in range(n):\n",
    "    print(p[i])"
   ],
   "outputs": [
    {
     "name": "stdout",
     "output_type": "stream",
     "text": [
      "[1]\n",
      "[1, 1]\n",
      "[1, 2, 1]\n",
      "[1, 3, 3, 1]\n",
      "[1, 4, 6, 4, 1]\n",
      "[1, 5, 10, 10, 5, 1]\n",
      "[1, 6, 15, 20, 15, 6, 1]\n"
     ]
    }
   ],
   "execution_count": 5
  },
  {
   "metadata": {
    "ExecuteTime": {
     "end_time": "2025-08-27T13:03:02.465138Z",
     "start_time": "2025-08-27T13:03:02.460378Z"
    }
   },
   "cell_type": "code",
   "source": [
    "t = \"лилила\"\n",
    "p = [0] * len(t)\n",
    "i = 1\n",
    "j = 0\n",
    "\n",
    "while i < len(t):\n",
    "    if t[i] == t[j]:\n",
    "        p[i] = j + 1\n",
    "        j += 1\n",
    "        i += 1\n",
    "    else:\n",
    "        if j == 0:\n",
    "            p[i] = 0\n",
    "            i += 1\n",
    "        else:\n",
    "            j = p[j - 1]\n",
    "\n",
    "a = \"лилилось лилилась\"\n",
    "m = len(t)\n",
    "n = len(a)\n",
    "\n",
    "i = 0\n",
    "j = 0\n",
    "while i < n:\n",
    "    if a[i] == t[j]:\n",
    "        i += 1\n",
    "        j += 1\n",
    "        if j == m:\n",
    "            print(\"Образ найден\")\n",
    "            break\n",
    "    else:\n",
    "        if j > 0:\n",
    "            j = p[j - 1]\n",
    "        else:\n",
    "            i += 1\n",
    "\n",
    "if i == n:\n",
    "    print(\"Образ не найден\")"
   ],
   "id": "568b516729f67d85",
   "outputs": [
    {
     "name": "stdout",
     "output_type": "stream",
     "text": [
      "Образ найден\n"
     ]
    }
   ],
   "execution_count": 6
  },
  {
   "metadata": {},
   "cell_type": "markdown",
   "source": "",
   "id": "ab073b31416bc94d"
  },
  {
   "metadata": {
    "ExecuteTime": {
     "end_time": "2025-08-27T13:03:02.472931Z",
     "start_time": "2025-08-27T13:03:02.467475Z"
    }
   },
   "cell_type": "code",
   "source": [
    "t = \"данные\"\n",
    "\n",
    "\n",
    "S = set()  \n",
    "M = len(t) \n",
    "d = {}     \n",
    "\n",
    "for i in range(M-2, -1, -1): \n",
    "    if t[i] not in S:  \n",
    "        d[t[i]] = M-i-1\n",
    "        S.add(t[i])\n",
    "\n",
    "if t[M-1] not in S:    \n",
    "    d[t[M-1]] = M\n",
    "\n",
    "d['*'] = M              \n",
    "\n",
    "print(d)\n",
    "\n",
    "\n",
    "a = \"метеоданные\"\n",
    "N = len(a)\n",
    "\n",
    "if N >= M:\n",
    "    i = M-1      \n",
    "\n",
    "    while(i < N):\n",
    "        k = 0\n",
    "        j = 0\n",
    "        flBreak = False\n",
    "        for j in range(M-1, -1, -1):\n",
    "            if a[i-k] != t[j]:\n",
    "                if j == M-1:\n",
    "                    off = d[a[i]] if d.get(a[i], False) else d['*'] \n",
    "                else:\n",
    "                    off = d[t[j]]  \n",
    "\n",
    "                i += off   \n",
    "                flBreak = True \n",
    "                break\n",
    "\n",
    "            k += 1         \n",
    "\n",
    "        if not flBreak:         \n",
    "            print(f\"образ найден по индексу {i-k+1}\")\n",
    "            break\n",
    "    else:\n",
    "        print(\"образ не найден\")\n",
    "else:\n",
    "    print(\"образ не найден\")"
   ],
   "id": "d2a51737c76d6b7c",
   "outputs": [
    {
     "name": "stdout",
     "output_type": "stream",
     "text": [
      "{'ы': 1, 'н': 2, 'а': 4, 'д': 5, 'е': 6, '*': 6}\n",
      "образ найден по индексу 5\n"
     ]
    }
   ],
   "execution_count": 7
  },
  {
   "metadata": {
    "ExecuteTime": {
     "end_time": "2025-08-27T13:03:02.477534Z",
     "start_time": "2025-08-27T13:03:02.473563Z"
    }
   },
   "cell_type": "code",
   "source": [
    "import math\n",
    "\n",
    "\n",
    "def arg_min(T, S):\n",
    "    amin = -1\n",
    "    m = math.inf  \n",
    "    for i, t in enumerate(T):\n",
    "        if t < m and i not in S:\n",
    "            m = t\n",
    "            amin = i\n",
    "\n",
    "    return amin\n",
    "\n",
    "\n",
    "D = ((0, 3, 1, 3, math.inf, math.inf),\n",
    "     (3, 0, 4, math.inf, math.inf, math.inf),\n",
    "     (1, 4, 0, math.inf, 7, 5),\n",
    "     (3, math.inf, math.inf, 0, math.inf, 2),\n",
    "     (math.inf, math.inf, 7, math.inf, 0, 4),\n",
    "     (math.inf, math.inf, 5, 2, 4, 0))\n",
    "\n",
    "N = len(D)  \n",
    "T = [math.inf]*N   \n",
    "\n",
    "v = 0       \n",
    "S = {v}     \n",
    "T[v] = 0    \n",
    "M = [0]*N   \n",
    "\n",
    "while v != -1:          \n",
    "    for j, dw in enumerate(D[v]):   \n",
    "        if j not in S:           \n",
    "            w = T[v] + dw\n",
    "            if w < T[j]:\n",
    "                T[j] = w\n",
    "                M[j] = v        \n",
    "\n",
    "    v = arg_min(T, S)            \n",
    "    if v >= 0:                  \n",
    "        S.add(v)              \n",
    "\n",
    "start = 0\n",
    "end = 4\n",
    "P = [end] \n",
    "while end != start:\n",
    "    end = M[P[-1]]\n",
    "    P.append(end)\n",
    "\n",
    "print(P)"
   ],
   "id": "f0327aaf809b2565",
   "outputs": [
    {
     "name": "stdout",
     "output_type": "stream",
     "text": [
      "[4, 2, 0]\n"
     ]
    }
   ],
   "execution_count": 8
  },
  {
   "metadata": {
    "ExecuteTime": {
     "end_time": "2025-08-27T13:03:02.481266Z",
     "start_time": "2025-08-27T13:03:02.479016Z"
    }
   },
   "cell_type": "code",
   "source": [
    "a = [7, 5, -8, 0, 10, 1]\n",
    "N = len(a)  \n",
    "\n",
    "for i in range(0, N-1):     \n",
    "    for j in range(0, N-1-i):  \n",
    "        if a[j] > a[j+1]:\n",
    "            a[j], a[j+1] = a[j+1], a[j]\n",
    "\n",
    "print(a)"
   ],
   "id": "7a4319a341ab4e36",
   "outputs": [
    {
     "name": "stdout",
     "output_type": "stream",
     "text": [
      "[-8, 0, 1, 5, 7, 10]\n"
     ]
    }
   ],
   "execution_count": 9
  }
 ],
 "metadata": {
  "kernelspec": {
   "display_name": "Python 3",
   "language": "python",
   "name": "python3"
  },
  "language_info": {
   "codemirror_mode": {
    "name": "ipython",
    "version": 2
   },
   "file_extension": ".py",
   "mimetype": "text/x-python",
   "name": "python",
   "nbconvert_exporter": "python",
   "pygments_lexer": "ipython2",
   "version": "2.7.6"
  }
 },
 "nbformat": 4,
 "nbformat_minor": 5
}
