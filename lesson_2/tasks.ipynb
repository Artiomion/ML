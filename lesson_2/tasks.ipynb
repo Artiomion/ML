{
 "cells": [
  {
   "cell_type": "code",
   "id": "initial_id",
   "metadata": {
    "collapsed": true,
    "ExecuteTime": {
     "end_time": "2025-09-01T10:42:23.250426Z",
     "start_time": "2025-09-01T10:42:23.245317Z"
    }
   },
   "source": [
    "# N_1\n",
    "#(a)y**2 - (b)12*y + (c)20 = 0\n",
    "# 1, -12, 20\n",
    "# 1, 17, 72\n",
    "# 1, -7, -44\n",
    "# 1, 9, 8 \n",
    "# 1, -2, -63\n",
    "a, b, c = 1, -2, -63\n",
    "discrim = b**2 - 4*a*c\n",
    "\n",
    "if discrim >= 0:\n",
    "    y1 = (-b + discrim**0.5) / (2*a)\n",
    "    y2 = (-b - discrim**0.5) / (2*a)\n",
    "    \n",
    "print(y1, y2)"
   ],
   "outputs": [
    {
     "name": "stdout",
     "output_type": "stream",
     "text": [
      "9.0 -7.0\n"
     ]
    }
   ],
   "execution_count": 799
  },
  {
   "metadata": {
    "ExecuteTime": {
     "end_time": "2025-09-01T10:42:23.268372Z",
     "start_time": "2025-09-01T10:42:23.263701Z"
    }
   },
   "cell_type": "code",
   "source": [
    "# N_1\n",
    "#(a)y**2 - (b)12*y + (c)20 = 0\n",
    "a, b, c = 1, 4, -5\n",
    "discrim = b**2 - 4*a*c\n",
    "\n",
    "if discrim >= 0:\n",
    "    t1 = (-b + discrim**0.5) / (2*a)\n",
    "    t2 = (-b - discrim**0.5) / (2*a)\n",
    "    \n",
    "print(f\"Для t1 = {t1}: x^2 - 8 = {t1} -> x^2 = {t1 + 8}\")\n",
    "x1 = (t1 + 8)**0.5\n",
    "x2 = -(t1 + 8)**0.5\n",
    "print(f\"x1 = {x1}, x2 = {x2}\")\n",
    "    \n",
    "print(f\"Для t2 = {t2}: x^2 - 8 = {t2} -> x^2 = {t2 + 8}\")\n",
    "x3 = (t2 + 8)**0.5\n",
    "x4 = -(t2 + 8)**0.5\n",
    "print(f\"x3 = {x3}, x4 = {x4}\")\n",
    "    "
   ],
   "id": "1839dacb72bb69cf",
   "outputs": [
    {
     "name": "stdout",
     "output_type": "stream",
     "text": [
      "Для t1 = 1.0: x^2 - 8 = 1.0 -> x^2 = 9.0\n",
      "x1 = 3.0, x2 = -3.0\n",
      "Для t2 = -5.0: x^2 - 8 = -5.0 -> x^2 = 3.0\n",
      "x3 = 1.7320508075688772, x4 = -1.7320508075688772\n"
     ]
    }
   ],
   "execution_count": 800
  },
  {
   "metadata": {
    "ExecuteTime": {
     "end_time": "2025-09-01T10:42:23.292955Z",
     "start_time": "2025-09-01T10:42:23.290590Z"
    }
   },
   "cell_type": "code",
   "source": [
    "# N_2\n",
    "lst = [3, 5, 9, 1, 23]\n",
    "print([lst[i] for i in range(len(lst)-1, -1, -1)])"
   ],
   "id": "f5d38a9e55418805",
   "outputs": [
    {
     "name": "stdout",
     "output_type": "stream",
     "text": [
      "[23, 1, 9, 5, 3]\n"
     ]
    }
   ],
   "execution_count": 801
  },
  {
   "metadata": {
    "ExecuteTime": {
     "end_time": "2025-09-01T10:42:23.297131Z",
     "start_time": "2025-09-01T10:42:23.294395Z"
    }
   },
   "cell_type": "code",
   "source": [
    "# N_3\n",
    "def change(lst):\n",
    "    lst[0],lst[-1] = lst[-1], lst[0]\n",
    "    print(lst)\n",
    "    \n",
    "lst = [1, 2, 3, 4, 5]\n",
    "change(lst)"
   ],
   "id": "e93ef1ee92933290",
   "outputs": [
    {
     "name": "stdout",
     "output_type": "stream",
     "text": [
      "[5, 2, 3, 4, 1]\n"
     ]
    }
   ],
   "execution_count": 802
  },
  {
   "metadata": {
    "ExecuteTime": {
     "end_time": "2025-09-01T10:42:23.300359Z",
     "start_time": "2025-09-01T10:42:23.297838Z"
    }
   },
   "cell_type": "code",
   "source": [
    "# N_4\n",
    "def useless(s):\n",
    "    return max(s) / len(s)\n",
    "\n",
    "s = [3, 5, 9, 1, 23]\n",
    "a = useless(s)\n",
    "print(a)"
   ],
   "id": "fbcffb0346517789",
   "outputs": [
    {
     "name": "stdout",
     "output_type": "stream",
     "text": [
      "4.6\n"
     ]
    }
   ],
   "execution_count": 803
  },
  {
   "metadata": {
    "ExecuteTime": {
     "end_time": "2025-09-01T10:42:23.311408Z",
     "start_time": "2025-09-01T10:42:23.308613Z"
    }
   },
   "cell_type": "code",
   "source": [
    "# N_5\n",
    "def all_eq(lst):\n",
    "    a = max(len(i) for i in lst)\n",
    "    \n",
    "    for i in range(len(lst)):\n",
    "        if len(lst[i]) < a:\n",
    "            lst[i] = lst[i] + '_' * (a - len(lst[i]))\n",
    "    return lst\n",
    "    \n",
    "lst = ['крот', 'белка', 'выхухоль']\n",
    "print(all_eq(lst))\n",
    "    "
   ],
   "id": "5e7065e7f553538a",
   "outputs": [
    {
     "name": "stdout",
     "output_type": "stream",
     "text": [
      "['крот____', 'белка___', 'выхухоль']\n"
     ]
    }
   ],
   "execution_count": 804
  },
  {
   "metadata": {
    "ExecuteTime": {
     "end_time": "2025-09-01T10:42:23.314797Z",
     "start_time": "2025-09-01T10:42:23.312226Z"
    }
   },
   "cell_type": "code",
   "source": [
    "# N_1\n",
    "import math as m\n",
    "\n",
    "x = 1.79\n",
    "y = (m.cos(m.e**x) + m.log(1+x)**2 + m.sqrt(m.e**m.cos(x) + (m.sin(m.pi*x))**2) + m.sqrt(1/x) + m.cos(x**2))**m.sin(x)\n",
    "\n",
    "print(y)"
   ],
   "id": "32a4ddff702d4a0b",
   "outputs": [
    {
     "name": "stdout",
     "output_type": "stream",
     "text": [
      "2.775368323057839\n"
     ]
    }
   ],
   "execution_count": 805
  },
  {
   "metadata": {
    "ExecuteTime": {
     "end_time": "2025-09-01T10:42:23.317499Z",
     "start_time": "2025-09-01T10:42:23.315623Z"
    }
   },
   "cell_type": "code",
   "source": [
    "# N_2\n",
    "def search_substr(subst, st):\n",
    "    print('Есть контакт!' if st in subst else 'Мимо!') \n",
    "    \n",
    "search_substr('привет', \"ри\")"
   ],
   "id": "2c235f68f4e29690",
   "outputs": [
    {
     "name": "stdout",
     "output_type": "stream",
     "text": [
      "Есть контакт!\n"
     ]
    }
   ],
   "execution_count": 806
  },
  {
   "metadata": {
    "ExecuteTime": {
     "end_time": "2025-09-01T10:42:23.336684Z",
     "start_time": "2025-09-01T10:42:23.333121Z"
    }
   },
   "cell_type": "code",
   "source": [
    "# N_3\n",
    "s = 'jdcnjcdj jnfejnevdh kwdjfnref jerfewrifnr'.replace(' ', '')\n",
    "d = {}\n",
    "for i in set(s):\n",
    "    с = s.count(i)\n",
    "    if с in d:\n",
    "        d[с].append(i)\n",
    "    else:\n",
    "        d[с] = [i]\n",
    "print(*[f\"буква(ы) {', '.join(v)} встречаются {i} раз\" for i, v in sorted(d.items(), reverse=True)[:3]], sep='\\n')"
   ],
   "id": "e6c507883dc150c",
   "outputs": [
    {
     "name": "stdout",
     "output_type": "stream",
     "text": [
      "буква(ы) j встречаются 7 раз\n",
      "буква(ы) e, f, n встречаются 5 раз\n",
      "буква(ы) d, r встречаются 4 раз\n"
     ]
    }
   ],
   "execution_count": 807
  },
  {
   "metadata": {
    "ExecuteTime": {
     "end_time": "2025-09-01T10:42:23.339970Z",
     "start_time": "2025-09-01T10:42:23.337640Z"
    }
   },
   "cell_type": "code",
   "source": [
    "# N_4\n",
    "def count_it(sequence):\n",
    "    d = {}\n",
    "    for i in set(sequence):\n",
    "        d.setdefault(int(i), sequence.count(i))\n",
    "        \n",
    "    sort = sorted(d.items(), key=lambda x: x[1], reverse=True)\n",
    "    return dict(sort[:3])\n",
    "\n",
    "sequence = '1 8 3 6 2 6 3 6 4 7 4 7 2 2 6 3 6'.replace(' ', '')\n",
    "print(count_it(sequence))"
   ],
   "id": "f498e180a3935b16",
   "outputs": [
    {
     "name": "stdout",
     "output_type": "stream",
     "text": [
      "{6: 5, 2: 3, 3: 3}\n"
     ]
    }
   ],
   "execution_count": 808
  },
  {
   "metadata": {
    "ExecuteTime": {
     "end_time": "2025-09-01T10:44:09.649622Z",
     "start_time": "2025-09-01T10:44:04.138221Z"
    }
   },
   "cell_type": "code",
   "source": [
    "# N_5 ферзь\n",
    "pole = [[0, 0, 0, 0, 0 ,0 ,0 ,0], \n",
    "        [0, 0, 0, 0, 0 ,0 ,0 ,0], \n",
    "        [0, 0, 0, 0, 0 ,0 ,0 ,0], \n",
    "        [0, 0, 0, 0, 0 ,0 ,0 ,0],\n",
    "        [0, 0, 0, 0, 0 ,0 ,0 ,0], \n",
    "        [0, 0, 0, 0, 0 ,0 ,0 ,0], \n",
    "        [0, 0, 0, 0, 0 ,0 ,0 ,0], \n",
    "        [0, 0, 0, 0, 0 ,0 ,0 ,0]] \n",
    "\n",
    "def check(your_row, your_col, row, col):\n",
    "    if your_row == row or your_col == col or abs(your_row - row) == abs(your_col - col):\n",
    "        return 'Ваша фигура под угрозой'\n",
    "    return 'Ваша фигура в безопасности'\n",
    "    \n",
    "a, b = map(int, input('Введите координаты вашей фигуры через пробел(пример: 5 7):').split())\n",
    "c, d = map(int, input('Введите координаты фигуры соперника через пробел(пример: 5 7):').split())\n",
    "pole[a-1][b-1], pole[c-1][d-1] = 1, 2\n",
    "print(check(a-1, b-1, c-1, d-1), \n",
    "      f'({a}, {b}) - координаты вашей фигуры(1)', \n",
    "      f'({c}, {d}) - координаты фигуры соперника ферзь(2)', sep='\\n')\n",
    "for i in pole:\n",
    "    print(*i)"
   ],
   "id": "ab15ccb6523f364",
   "outputs": [
    {
     "name": "stdout",
     "output_type": "stream",
     "text": [
      "Ваша фигура в безопасности\n",
      "(3, 4) - координаты вашей фигуры(1)\n",
      "(1, 7) - координаты фигуры соперника ферзь(2)\n",
      "0 0 0 0 0 0 2 0\n",
      "0 0 0 0 0 0 0 0\n",
      "0 0 0 1 0 0 0 0\n",
      "0 0 0 0 0 0 0 0\n",
      "0 0 0 0 0 0 0 0\n",
      "0 0 0 0 0 0 0 0\n",
      "0 0 0 0 0 0 0 0\n",
      "0 0 0 0 0 0 0 0\n"
     ]
    }
   ],
   "execution_count": 1
  },
  {
   "metadata": {
    "ExecuteTime": {
     "end_time": "2025-09-01T10:44:24.844258Z",
     "start_time": "2025-09-01T10:44:13.331896Z"
    }
   },
   "cell_type": "code",
   "source": [
    "# N_5 конь\n",
    "pole = ([0, 0, 0, 0, 0 ,0 ,0 ,0], \n",
    "        [0, 0, 0, 0, 0 ,0 ,0 ,0], \n",
    "        [0, 0, 0, 0, 0 ,0 ,0 ,0], \n",
    "        [0, 0, 0, 0, 0 ,0 ,0 ,0],\n",
    "        [0, 0, 0, 0, 0 ,0 ,0 ,0], \n",
    "        [0, 0, 0, 0, 0 ,0 ,0 ,0], \n",
    "        [0, 0, 0, 0, 0 ,0 ,0 ,0], \n",
    "        [0, 0, 0, 0, 0 ,0 ,0 ,0])\n",
    "\n",
    "def check(your_row, your_col, row, col):\n",
    "    moves = ((-2, -1), (-2, 1),\n",
    "             (-1, -2), (-1, 2),\n",
    "             (1, -2), (1, 2),\n",
    "             (2, -1), (2, 1))\n",
    "    \n",
    "    for i in moves:\n",
    "        goal_row = row + i[0]\n",
    "        goal_col = col + i[1]\n",
    "        \n",
    "        if (0 <= goal_row < 8 and 0 <= goal_col < 8 and goal_row == your_row and goal_col == your_col):\n",
    "            return 'Ваша фигура под угрозой'\n",
    "    \n",
    "    return 'Ваша фигура в безопасности'\n",
    "    \n",
    "a, b = map(int, input('Введите координаты вашей фигуры через пробел(пример: 5 7):').split())\n",
    "c, d = map(int, input('Введите координаты фигуры соперника через пробел(пример: 5 7):').split())\n",
    "pole[a-1][b-1], pole[c-1][d-1] = 1, 2\n",
    "print(check(a-1, b-1, c-1, d-1), \n",
    "      f'({a}, {b}) - координаты вашей фигуры(1)', \n",
    "      f'({c}, {d}) - координаты фигуры соперника конь(2)', sep='\\n')\n",
    "for i in pole:\n",
    "    print(*i)"
   ],
   "id": "288f36e751bff63a",
   "outputs": [
    {
     "name": "stdout",
     "output_type": "stream",
     "text": [
      "Ваша фигура в безопасности\n",
      "(1, 5) - координаты вашей фигуры(1)\n",
      "(3, 7) - координаты фигуры соперника конь(2)\n",
      "0 0 0 0 1 0 0 0\n",
      "0 0 0 0 0 0 0 0\n",
      "0 0 0 0 0 0 2 0\n",
      "0 0 0 0 0 0 0 0\n",
      "0 0 0 0 0 0 0 0\n",
      "0 0 0 0 0 0 0 0\n",
      "0 0 0 0 0 0 0 0\n",
      "0 0 0 0 0 0 0 0\n"
     ]
    }
   ],
   "execution_count": 2
  },
  {
   "metadata": {},
   "cell_type": "code",
   "outputs": [],
   "execution_count": null,
   "source": "",
   "id": "153e97f9fe3881d"
  }
 ],
 "metadata": {
  "kernelspec": {
   "display_name": "Python 3",
   "language": "python",
   "name": "python3"
  },
  "language_info": {
   "codemirror_mode": {
    "name": "ipython",
    "version": 2
   },
   "file_extension": ".py",
   "mimetype": "text/x-python",
   "name": "python",
   "nbconvert_exporter": "python",
   "pygments_lexer": "ipython2",
   "version": "2.7.6"
  }
 },
 "nbformat": 4,
 "nbformat_minor": 5
}
