{
 "cells": [
  {
   "cell_type": "code",
   "id": "initial_id",
   "metadata": {
    "collapsed": true,
    "ExecuteTime": {
     "end_time": "2025-09-01T07:48:32.607209Z",
     "start_time": "2025-09-01T07:48:32.595191Z"
    }
   },
   "source": [
    "# N_1\n",
    "#(a)y**2 - (b)12*y + (c)20 = 0\n",
    "# 1, -12, 20\n",
    "# 1, 17, 72\n",
    "# 1, -7, -44\n",
    "# 1, 9, 8 \n",
    "# 1, -2, -63\n",
    "a, b, c = 1, -2, -63\n",
    "discrim = b**2 - 4*a*c\n",
    "\n",
    "if discrim >= 0:\n",
    "    y1 = (-b + discrim**0.5) / (2*a)\n",
    "    y2 = (-b - discrim**0.5) / (2*a)\n",
    "    \n",
    "print(y1, y2)"
   ],
   "outputs": [
    {
     "name": "stdout",
     "output_type": "stream",
     "text": [
      "9.0 -7.0\n"
     ]
    }
   ],
   "execution_count": 791
  },
  {
   "metadata": {
    "ExecuteTime": {
     "end_time": "2025-09-01T07:59:57.003954Z",
     "start_time": "2025-09-01T07:59:56.995984Z"
    }
   },
   "cell_type": "code",
   "source": [
    "# N_1\n",
    "#(a)y**2 - (b)12*y + (c)20 = 0\n",
    "a, b, c = 1, 4, -5\n",
    "discrim = b**2 - 4*a*c\n",
    "\n",
    "if discrim >= 0:\n",
    "    t1 = (-b + discrim**0.5) / (2*a)\n",
    "    t2 = (-b - discrim**0.5) / (2*a)\n",
    "    \n",
    "print(f\"Для t1 = {t1}: x^2 - 8 = {t1} -> x^2 = {t1 + 8}\")\n",
    "x1 = (t1 + 8)**0.5\n",
    "x2 = -(t1 + 8)**0.5\n",
    "print(f\"x1 = {x1}, x2 = {x2}\")\n",
    "    \n",
    "print(f\"Для t2 = {t2}: x^2 - 8 = {t2} -> x^2 = {t2 + 8}\")\n",
    "x3 = (t2 + 8)**0.5\n",
    "x4 = -(t2 + 8)**0.5\n",
    "print(f\"x3 = {x3}, x4 = {x4}\")\n",
    "    "
   ],
   "id": "1839dacb72bb69cf",
   "outputs": [
    {
     "name": "stdout",
     "output_type": "stream",
     "text": [
      "Для t1 = 1.0: x^2 - 8 = 1.0 -> x^2 = 9.0\n",
      "x1 = 3.0, x2 = -3.0\n",
      "Для t2 = -5.0: x^2 - 8 = -5.0 -> x^2 = 3.0\n",
      "x3 = 1.7320508075688772, x4 = -1.7320508075688772\n"
     ]
    }
   ],
   "execution_count": 794
  },
  {
   "metadata": {
    "ExecuteTime": {
     "end_time": "2025-09-01T07:29:59.290891Z",
     "start_time": "2025-09-01T07:29:59.287992Z"
    }
   },
   "cell_type": "code",
   "source": [
    "# N_2\n",
    "lst = [3, 5, 9, 1, 23]\n",
    "print([lst[i] for i in range(len(lst)-1, -1, -1)])"
   ],
   "id": "f5d38a9e55418805",
   "outputs": [
    {
     "name": "stdout",
     "output_type": "stream",
     "text": [
      "[23, 1, 9, 5, 3]\n"
     ]
    }
   ],
   "execution_count": 773
  },
  {
   "metadata": {
    "ExecuteTime": {
     "end_time": "2025-09-01T07:29:59.294484Z",
     "start_time": "2025-09-01T07:29:59.291797Z"
    }
   },
   "cell_type": "code",
   "source": [
    "# N_3\n",
    "def change(lst):\n",
    "    lst[0],lst[-1] = lst[-1], lst[0]\n",
    "    print(lst)\n",
    "    \n",
    "lst = [1, 2, 3, 4, 5]\n",
    "change(lst)"
   ],
   "id": "e93ef1ee92933290",
   "outputs": [
    {
     "name": "stdout",
     "output_type": "stream",
     "text": [
      "[5, 2, 3, 4, 1]\n"
     ]
    }
   ],
   "execution_count": 774
  },
  {
   "metadata": {
    "ExecuteTime": {
     "end_time": "2025-09-01T07:29:59.298313Z",
     "start_time": "2025-09-01T07:29:59.295867Z"
    }
   },
   "cell_type": "code",
   "source": [
    "# N_4\n",
    "def useless(s):\n",
    "    return max(s) / len(s)\n",
    "\n",
    "s = [3, 5, 9, 1, 23]\n",
    "a = useless(s)\n",
    "print(a)"
   ],
   "id": "fbcffb0346517789",
   "outputs": [
    {
     "name": "stdout",
     "output_type": "stream",
     "text": [
      "4.6\n"
     ]
    }
   ],
   "execution_count": 775
  },
  {
   "metadata": {
    "ExecuteTime": {
     "end_time": "2025-09-01T07:29:59.302432Z",
     "start_time": "2025-09-01T07:29:59.299228Z"
    }
   },
   "cell_type": "code",
   "source": [
    "# N_5\n",
    "def all_eq(lst):\n",
    "    a = max(len(i) for i in lst)\n",
    "    \n",
    "    for i in range(len(lst)):\n",
    "        if len(lst[i]) < a:\n",
    "            lst[i] = lst[i] + '_' * (a - len(lst[i]))\n",
    "    return lst\n",
    "    \n",
    "lst = ['крот', 'белка', 'выхухоль']\n",
    "print(all_eq(lst))\n",
    "    "
   ],
   "id": "5e7065e7f553538a",
   "outputs": [
    {
     "name": "stdout",
     "output_type": "stream",
     "text": [
      "['крот____', 'белка___', 'выхухоль']\n"
     ]
    }
   ],
   "execution_count": 776
  },
  {
   "metadata": {
    "ExecuteTime": {
     "end_time": "2025-09-01T07:41:35.212017Z",
     "start_time": "2025-09-01T07:41:35.200167Z"
    }
   },
   "cell_type": "code",
   "source": [
    "# N_1\n",
    "import math as m\n",
    "\n",
    "x = 1.79\n",
    "y = (m.cos(m.e**x) + m.log(1+x)**2 + m.sqrt(m.e**m.cos(x) + (m.sin(m.pi*x))**2) + m.sqrt(1/x) + m.cos(x**2))**m.sin(x)\n",
    "\n",
    "print(y)"
   ],
   "id": "32a4ddff702d4a0b",
   "outputs": [
    {
     "name": "stdout",
     "output_type": "stream",
     "text": [
      "2.775368323057839\n"
     ]
    }
   ],
   "execution_count": 785
  },
  {
   "metadata": {
    "ExecuteTime": {
     "end_time": "2025-09-01T07:29:59.322351Z",
     "start_time": "2025-09-01T07:29:59.320299Z"
    }
   },
   "cell_type": "code",
   "source": [
    "# N_2\n",
    "def search_substr(subst, st):\n",
    "    print('Есть контакт!' if st in subst else 'Мимо!') \n",
    "    \n",
    "search_substr('привет', \"ри\")"
   ],
   "id": "2c235f68f4e29690",
   "outputs": [
    {
     "name": "stdout",
     "output_type": "stream",
     "text": [
      "Есть контакт!\n"
     ]
    }
   ],
   "execution_count": 778
  },
  {
   "metadata": {
    "ExecuteTime": {
     "end_time": "2025-09-01T07:29:59.344343Z",
     "start_time": "2025-09-01T07:29:59.341402Z"
    }
   },
   "cell_type": "code",
   "source": [
    "# N_3\n",
    "s = 'jdcnjcdj jnfejnevdh kwdjfnref jerfewrifnr'.replace(' ', '')\n",
    "d = {}\n",
    "for i in set(s):\n",
    "    с = s.count(i)\n",
    "    if с in d:\n",
    "        d[с].append(i)\n",
    "    else:\n",
    "        d[с] = [i]\n",
    "print(*[f\"буква(ы) {', '.join(v)} встречаются {i} раз\" for i, v in sorted(d.items(), reverse=True)[:3]], sep='\\n')"
   ],
   "id": "e6c507883dc150c",
   "outputs": [
    {
     "name": "stdout",
     "output_type": "stream",
     "text": [
      "буква(ы) j встречаются 7 раз\n",
      "буква(ы) e, f, n встречаются 5 раз\n",
      "буква(ы) d, r встречаются 4 раз\n"
     ]
    }
   ],
   "execution_count": 779
  },
  {
   "metadata": {
    "ExecuteTime": {
     "end_time": "2025-09-01T07:29:59.353428Z",
     "start_time": "2025-09-01T07:29:59.351261Z"
    }
   },
   "cell_type": "code",
   "source": [
    "# N_4\n",
    "def count_it(sequence):\n",
    "    d = {}\n",
    "    for i in set(sequence):\n",
    "        d.setdefault(int(i), sequence.count(i))\n",
    "        \n",
    "    sort = sorted(d.items(), key=lambda x: x[1], reverse=True)\n",
    "    return dict(sort[:3])\n",
    "\n",
    "sequence = '1 8 3 6 2 6 3 6 4 7 4 7 2 2 6 3 6'.replace(' ', '')\n",
    "print(count_it(sequence))"
   ],
   "id": "f498e180a3935b16",
   "outputs": [
    {
     "name": "stdout",
     "output_type": "stream",
     "text": [
      "{6: 5, 2: 3, 3: 3}\n"
     ]
    }
   ],
   "execution_count": 780
  },
  {
   "metadata": {
    "ExecuteTime": {
     "end_time": "2025-09-01T07:30:01.964398Z",
     "start_time": "2025-09-01T07:29:59.354278Z"
    }
   },
   "cell_type": "code",
   "source": [
    "# N_5 ферзь\n",
    "pole = [[0, 0, 0, 0, 0 ,0 ,0 ,0], \n",
    "        [0, 0, 0, 0, 0 ,0 ,0 ,0], \n",
    "        [0, 0, 0, 0, 0 ,0 ,0 ,0], \n",
    "        [0, 0, 0, 0, 0 ,0 ,0 ,0],\n",
    "        [0, 0, 0, 0, 0 ,0 ,0 ,0], \n",
    "        [0, 0, 0, 0, 0 ,0 ,0 ,0], \n",
    "        [0, 0, 0, 0, 0 ,0 ,0 ,0], \n",
    "        [0, 0, 0, 0, 0 ,0 ,0 ,0]] \n",
    "\n",
    "def check(your_row, your_col, row, col):\n",
    "    if your_row == row or your_col == col or abs(your_row - row) == abs(your_col - col):\n",
    "        return 'Ваша фигура под угрозой'\n",
    "    return 'Ваша фигура в безопасности'\n",
    "    \n",
    "a, b = map(int, input('Введите координаты вашей фигуры через пробел(пример: 5 7):').split())\n",
    "c, d = map(int, input('Введите координаты фигуры соперника через пробел(пример: 5 7):').split())\n",
    "pole[a-1][b-1], pole[c-1][d-1] = 1, 2\n",
    "print(check(a-1, b-1, c-1, d-1), \n",
    "      f'({a}, {b}) - координаты вашей фигуры(1)', \n",
    "      f'({c}, {d}) - координаты фигуры соперника ферзь(2)', sep='\\n')\n",
    "for i in pole:\n",
    "    print(*i)"
   ],
   "id": "ab15ccb6523f364",
   "outputs": [
    {
     "ename": "ValueError",
     "evalue": "not enough values to unpack (expected 2, got 0)",
     "output_type": "error",
     "traceback": [
      "\u001B[31m---------------------------------------------------------------------------\u001B[39m",
      "\u001B[31mValueError\u001B[39m                                Traceback (most recent call last)",
      "\u001B[36mCell\u001B[39m\u001B[36m \u001B[39m\u001B[32mIn[781]\u001B[39m\u001B[32m, line 16\u001B[39m\n\u001B[32m     13\u001B[39m         \u001B[38;5;28;01mreturn\u001B[39;00m \u001B[33m'\u001B[39m\u001B[33mВаша фигура под угрозой\u001B[39m\u001B[33m'\u001B[39m\n\u001B[32m     14\u001B[39m     \u001B[38;5;28;01mreturn\u001B[39;00m \u001B[33m'\u001B[39m\u001B[33mВаша фигура в безопасности\u001B[39m\u001B[33m'\u001B[39m\n\u001B[32m---> \u001B[39m\u001B[32m16\u001B[39m a, b = \u001B[38;5;28mmap\u001B[39m(\u001B[38;5;28mint\u001B[39m, \u001B[38;5;28minput\u001B[39m(\u001B[33m'\u001B[39m\u001B[33mВведите координаты вашей фигуры через пробел(пример: 5 7):\u001B[39m\u001B[33m'\u001B[39m).split())\n\u001B[32m     17\u001B[39m c, d = \u001B[38;5;28mmap\u001B[39m(\u001B[38;5;28mint\u001B[39m, \u001B[38;5;28minput\u001B[39m(\u001B[33m'\u001B[39m\u001B[33mВведите координаты фигуры соперника через пробел(пример: 5 7):\u001B[39m\u001B[33m'\u001B[39m).split())\n\u001B[32m     18\u001B[39m pole[a-\u001B[32m1\u001B[39m][b-\u001B[32m1\u001B[39m], pole[c-\u001B[32m1\u001B[39m][d-\u001B[32m1\u001B[39m] = \u001B[32m1\u001B[39m, \u001B[32m2\u001B[39m\n",
      "\u001B[31mValueError\u001B[39m: not enough values to unpack (expected 2, got 0)"
     ]
    }
   ],
   "execution_count": 781
  },
  {
   "metadata": {
    "ExecuteTime": {
     "end_time": "2025-09-01T07:39:36.210317Z",
     "start_time": "2025-09-01T07:39:18.376763Z"
    }
   },
   "cell_type": "code",
   "source": [
    "# N_5 конь\n",
    "pole = ([0, 0, 0, 0, 0 ,0 ,0 ,0], \n",
    "        [0, 0, 0, 0, 0 ,0 ,0 ,0], \n",
    "        [0, 0, 0, 0, 0 ,0 ,0 ,0], \n",
    "        [0, 0, 0, 0, 0 ,0 ,0 ,0],\n",
    "        [0, 0, 0, 0, 0 ,0 ,0 ,0], \n",
    "        [0, 0, 0, 0, 0 ,0 ,0 ,0], \n",
    "        [0, 0, 0, 0, 0 ,0 ,0 ,0], \n",
    "        [0, 0, 0, 0, 0 ,0 ,0 ,0])\n",
    "\n",
    "def check(your_row, your_col, row, col):\n",
    "    moves = ((-2, -1), (-2, 1),\n",
    "             (-1, -2), (-1, 2),\n",
    "             (1, -2), (1, 2),\n",
    "             (2, -1), (2, 1))\n",
    "    \n",
    "    for i in moves:\n",
    "        goal_row = row + i[0]\n",
    "        goal_col = col + i[1]\n",
    "        \n",
    "        if (0 <= goal_row < 8 and 0 <= goal_col < 8 and goal_row == your_row and goal_col == your_col):\n",
    "            return 'Ваша фигура под угрозой'\n",
    "    \n",
    "    return 'Ваша фигура в безопасности'\n",
    "    \n",
    "a, b = map(int, input('Введите координаты вашей фигуры через пробел(пример: 5 7):').split())\n",
    "c, d = map(int, input('Введите координаты фигуры соперника через пробел(пример: 5 7):').split())\n",
    "pole[a-1][b-1], pole[c-1][d-1] = 1, 2\n",
    "print(check(a-1, b-1, c-1, d-1), \n",
    "      f'({a}, {b}) - координаты вашей фигуры(1)', \n",
    "      f'({c}, {d}) - координаты фигуры соперника конь(2)', sep='\\n')\n",
    "for i in pole:\n",
    "    print(*i)"
   ],
   "id": "288f36e751bff63a",
   "outputs": [
    {
     "name": "stdout",
     "output_type": "stream",
     "text": [
      "Ваша фигура под угрозой\n",
      "(2, 5) - координаты вашей фигуры(1)\n",
      "(4, 4) - координаты фигуры соперника конь(2)\n",
      "0 0 0 0 0 0 0 0\n",
      "0 0 0 0 1 0 0 0\n",
      "0 0 0 0 0 0 0 0\n",
      "0 0 0 2 0 0 0 0\n",
      "0 0 0 0 0 0 0 0\n",
      "0 0 0 0 0 0 0 0\n",
      "0 0 0 0 0 0 0 0\n",
      "0 0 0 0 0 0 0 0\n"
     ]
    }
   ],
   "execution_count": 784
  },
  {
   "metadata": {},
   "cell_type": "code",
   "outputs": [],
   "execution_count": null,
   "source": "",
   "id": "2f7dec5d6d833630"
  }
 ],
 "metadata": {
  "kernelspec": {
   "display_name": "Python 3",
   "language": "python",
   "name": "python3"
  },
  "language_info": {
   "codemirror_mode": {
    "name": "ipython",
    "version": 2
   },
   "file_extension": ".py",
   "mimetype": "text/x-python",
   "name": "python",
   "nbconvert_exporter": "python",
   "pygments_lexer": "ipython2",
   "version": "2.7.6"
  }
 },
 "nbformat": 4,
 "nbformat_minor": 5
}
