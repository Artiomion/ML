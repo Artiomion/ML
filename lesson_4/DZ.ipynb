{
 "cells": [
  {
   "cell_type": "code",
   "id": "initial_id",
   "metadata": {
    "collapsed": true,
    "ExecuteTime": {
     "end_time": "2025-09-09T15:49:19.877120Z",
     "start_time": "2025-09-09T15:49:19.870231Z"
    }
   },
   "source": [
    "import numpy as np\n",
    "\n",
    "matrix_A = np.array([\n",
    "    [1, 2, 4],\n",
    "    [7, 5, -2],\n",
    "    [-2, 1, 3]\n",
    "])\n",
    "\n",
    "matrix_B = np.array([\n",
    "    [-1, 0, 3],\n",
    "    [2, -6, 1],\n",
    "    [-7, 1, 5]\n",
    "])\n",
    "\n",
    "matrix_C = np.array([\n",
    "    [-2, 3],\n",
    "    [4, 0],\n",
    "    [7, -1]\n",
    "])\n",
    "\n",
    "print(matrix_A + matrix_B)"
   ],
   "outputs": [
    {
     "name": "stdout",
     "output_type": "stream",
     "text": [
      "[[ 0  2  7]\n",
      " [ 9 -1 -1]\n",
      " [-9  2  8]]\n"
     ]
    }
   ],
   "execution_count": 3
  },
  {
   "metadata": {
    "ExecuteTime": {
     "end_time": "2025-09-09T15:51:00.818828Z",
     "start_time": "2025-09-09T15:51:00.808644Z"
    }
   },
   "cell_type": "code",
   "source": "print(matrix_B - matrix_A)",
   "id": "b4b0e394ed96d995",
   "outputs": [
    {
     "name": "stdout",
     "output_type": "stream",
     "text": [
      "[[ -2  -2  -1]\n",
      " [ -5 -11   3]\n",
      " [ -5   0   2]]\n"
     ]
    }
   ],
   "execution_count": 5
  },
  {
   "metadata": {
    "ExecuteTime": {
     "end_time": "2025-09-09T15:51:04.517878Z",
     "start_time": "2025-09-09T15:51:04.513936Z"
    }
   },
   "cell_type": "code",
   "source": "print(np.dot(matrix_A, matrix_B))",
   "id": "cf7ec61c17c23151",
   "outputs": [
    {
     "name": "stdout",
     "output_type": "stream",
     "text": [
      "[[-25  -8  25]\n",
      " [ 17 -32  16]\n",
      " [-17  -3  10]]\n"
     ]
    }
   ],
   "execution_count": 6
  },
  {
   "metadata": {
    "ExecuteTime": {
     "end_time": "2025-09-09T16:05:52.177506Z",
     "start_time": "2025-09-09T16:05:52.151109Z"
    }
   },
   "cell_type": "code",
   "source": "print(matrix_A @ matrix_B @ matrix_C)",
   "id": "bd18d202ddf453f8",
   "outputs": [
    {
     "name": "stdout",
     "output_type": "stream",
     "text": [
      "[[ 193 -100]\n",
      " [ -50   35]\n",
      " [  92  -61]]\n"
     ]
    }
   ],
   "execution_count": 10
  },
  {
   "metadata": {
    "ExecuteTime": {
     "end_time": "2025-09-09T16:52:46.304181Z",
     "start_time": "2025-09-09T16:52:46.290355Z"
    }
   },
   "cell_type": "code",
   "source": [
    "matrix_A = np.array([\n",
    "    [0, 3, 4],\n",
    "    [-7, 1, -2],\n",
    "    [2, -1, 3]\n",
    "])\n",
    "\n",
    "matrix_B = np.array([\n",
    "    [1, 2, 4],\n",
    "    [7, 0, -2],\n",
    "    [-3, -2, 5]\n",
    "])\n",
    "\n",
    "matrix_C = np.array([\n",
    "    [-3, 2],\n",
    "    [0, 4],\n",
    "    [-1, 7]\n",
    "])\n",
    "print('+' * 20)\n",
    "print(matrix_A + matrix_B)\n",
    "print('+' * 20)\n",
    "print(matrix_B - matrix_A)\n",
    "print('+' * 20)\n",
    "print(np.dot(matrix_A, matrix_B))\n",
    "print('+' * 20)\n",
    "print(matrix_A @ matrix_B @ matrix_C)\n",
    "print('+' * 20)"
   ],
   "id": "7253c76b8e44dc9a",
   "outputs": [
    {
     "name": "stdout",
     "output_type": "stream",
     "text": [
      "++++++++++++++++++++\n",
      "[[ 1  5  8]\n",
      " [ 0  1 -4]\n",
      " [-1 -3  8]]\n",
      "++++++++++++++++++++\n",
      "[[ 1 -1  0]\n",
      " [14 -1  0]\n",
      " [-5 -1  2]]\n",
      "++++++++++++++++++++\n",
      "[[  9  -8  14]\n",
      " [  6 -10 -40]\n",
      " [-14  -2  25]]\n",
      "++++++++++++++++++++\n",
      "[[ -41   84]\n",
      " [  22 -308]\n",
      " [  17  139]]\n",
      "++++++++++++++++++++\n"
     ]
    }
   ],
   "execution_count": 12
  }
 ],
 "metadata": {
  "kernelspec": {
   "display_name": "Python 3",
   "language": "python",
   "name": "python3"
  },
  "language_info": {
   "codemirror_mode": {
    "name": "ipython",
    "version": 2
   },
   "file_extension": ".py",
   "mimetype": "text/x-python",
   "name": "python",
   "nbconvert_exporter": "python",
   "pygments_lexer": "ipython2",
   "version": "2.7.6"
  }
 },
 "nbformat": 4,
 "nbformat_minor": 5
}
