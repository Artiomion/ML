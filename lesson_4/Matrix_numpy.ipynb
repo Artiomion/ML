{
 "cells": [
  {
   "metadata": {},
   "cell_type": "markdown",
   "source": "# Создание матрицы",
   "id": "6d77df3a1e3396d7"
  },
  {
   "cell_type": "code",
   "execution_count": null,
   "id": "initial_id",
   "metadata": {
    "collapsed": true
   },
   "outputs": [],
   "source": [
    "import numpy as np\n",
    "\n",
    "matrix_A = np.array([\n",
    "    [1, 2, 4],\n",
    "    [7, 5, -2],\n",
    "    [-2, 1, 3]\n",
    "])"
   ]
  },
  {
   "metadata": {},
   "cell_type": "markdown",
   "source": "# Специальные матрицы",
   "id": "a604ff184024f252"
  },
  {
   "metadata": {},
   "cell_type": "code",
   "outputs": [],
   "execution_count": null,
   "source": [
    "zeros = np.zeros((3, 3))      # Матрица нулей\n",
    "ones = np.ones((2, 4))        # Матрица единиц\n",
    "eye = np.eye(3)               # Единичная матрица\n",
    "random = np.random.rand(3, 3) # Случайная матрица"
   ],
   "id": "53418c77517ab7d"
  },
  {
   "metadata": {},
   "cell_type": "markdown",
   "source": "# Базовые операции ",
   "id": "2900f212006fe625"
  },
  {
   "metadata": {},
   "cell_type": "code",
   "outputs": [],
   "execution_count": null,
   "source": [
    "A = np.array([[1, 2], [3, 4]])\n",
    "B = np.array([[5, 6], [7, 8]])\n",
    "\n",
    "# Поэлементное сложение\n",
    "C = A + B  # [[6, 8], [10, 12]]\n",
    "\n",
    "# Поэлементное вычитание\n",
    "D = A - B  # [[-4, -4], [-4, -4]]\n",
    "\n",
    "# Поэлементное умножение\n",
    "E = A * B  # [[5, 12], [21, 32]]\n",
    "\n",
    "# Поэлементное деление\n",
    "F = A / B  # [[0.2, 0.333], [0.428, 0.5]]"
   ],
   "id": "34d8009075762abf"
  },
  {
   "metadata": {},
   "cell_type": "markdown",
   "source": "# Матричное умножение(скалярное произведение)",
   "id": "da3c5046ab0394c3"
  },
  {
   "metadata": {},
   "cell_type": "code",
   "outputs": [],
   "execution_count": null,
   "source": [
    "G = np.dot(A, B)        # [[19, 22], [43, 50]]\n",
    "G = A @ B               # Альтернативный синтаксис"
   ],
   "id": "df90858f62e81131"
  },
  {
   "metadata": {},
   "cell_type": "markdown",
   "source": "# Транспонирование",
   "id": "163361f3ac539e0a"
  },
  {
   "metadata": {},
   "cell_type": "code",
   "outputs": [],
   "execution_count": null,
   "source": "A_T = A.T               # [[1, 3], [2, 4]]",
   "id": "e893401c64cdf784"
  },
  {
   "metadata": {},
   "cell_type": "markdown",
   "source": "# Определитель матрицы",
   "id": "d831e0ccd1c0379b"
  },
  {
   "metadata": {},
   "cell_type": "code",
   "outputs": [],
   "execution_count": null,
   "source": "det = np.linalg.det(A)  # (1*4 - 2*3) = -2",
   "id": "cd3f5b2fd955e253"
  },
  {
   "metadata": {},
   "cell_type": "markdown",
   "source": "# Обратная матрица",
   "id": "38eaac4d567818ec"
  },
  {
   "metadata": {},
   "cell_type": "code",
   "outputs": [],
   "execution_count": null,
   "source": "A_inv = np.linalg.inv(A)  # [[-2, 1], [1.5, -0.5]]",
   "id": "87efebf2dc7da0c7"
  },
  {
   "metadata": {},
   "cell_type": "markdown",
   "source": "# След матрицы",
   "id": "3af34c35d359a781"
  },
  {
   "metadata": {},
   "cell_type": "code",
   "outputs": [],
   "execution_count": null,
   "source": "trace = np.trace(A)     # 1 + 4 = 5",
   "id": "a0eaca19f87a7238"
  },
  {
   "metadata": {},
   "cell_type": "markdown",
   "source": "# Ранг матрицы",
   "id": "5b21001f6401c397"
  },
  {
   "metadata": {},
   "cell_type": "code",
   "outputs": [],
   "execution_count": null,
   "source": "rank = np.linalg.matrix_rank(A)",
   "id": "36b857822ef37319"
  },
  {
   "metadata": {},
   "cell_type": "markdown",
   "source": "# Полезные функции",
   "id": "4c055621629c0d2e"
  },
  {
   "metadata": {},
   "cell_type": "code",
   "outputs": [],
   "execution_count": null,
   "source": [
    "# Сумма элементов\n",
    "total_sum = np.sum(A)\n",
    "\n",
    "# Сумма по осям\n",
    "sum_rows = np.sum(A, axis=0)  # сумма столбцов\n",
    "sum_cols = np.sum(A, axis=1)  # сумма строк\n",
    "\n",
    "# Минимальное и максимальное значение\n",
    "min_val = np.min(A)\n",
    "max_val = np.max(A)\n",
    "\n",
    "# Среднее значение\n",
    "mean_val = np.mean(A)"
   ],
   "id": "b1910cfd36d3718a"
  }
 ],
 "metadata": {
  "kernelspec": {
   "display_name": "Python 3",
   "language": "python",
   "name": "python3"
  },
  "language_info": {
   "codemirror_mode": {
    "name": "ipython",
    "version": 2
   },
   "file_extension": ".py",
   "mimetype": "text/x-python",
   "name": "python",
   "nbconvert_exporter": "python",
   "pygments_lexer": "ipython2",
   "version": "2.7.6"
  }
 },
 "nbformat": 4,
 "nbformat_minor": 5
}
